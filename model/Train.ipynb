{
  "nbformat": 4,
  "nbformat_minor": 0,
  "metadata": {
    "colab": {
      "name": "Train.ipynb",
      "provenance": []
    },
    "kernelspec": {
      "name": "python3",
      "display_name": "Python 3"
    }
  },
  "cells": [
    {
      "cell_type": "code",
      "metadata": {
        "id": "E2YRxXIsShxq",
        "colab_type": "code",
        "colab": {}
      },
      "source": [
        "import fastai\n",
        "from fastai.vision import *\n",
        "from fastai.callbacks import *\n",
        "from fastai.vision.gan import *\n",
        "from torchvision.models import vgg16_bn\n",
        "from fastai.utils.mem import *"
      ],
      "execution_count": null,
      "outputs": []
    },
    {
      "cell_type": "markdown",
      "metadata": {
        "id": "lXke1tgFTbny",
        "colab_type": "text"
      },
      "source": [
        "##Path\n"
      ]
    },
    {
      "cell_type": "code",
      "metadata": {
        "id": "-RH2gqcCTJPz",
        "colab_type": "code",
        "colab": {}
      },
      "source": [
        "path = Path('/content/gdrive/My Drive/mit')\n",
        "path_hr = Path('/content/gdrive/My Drive/mit/high')\n",
        "path_lr = Path('/content/gdrive/My Drive/mit/low')"
      ],
      "execution_count": null,
      "outputs": []
    },
    {
      "cell_type": "markdown",
      "metadata": {
        "id": "p503ULlBTqSX",
        "colab_type": "text"
      },
      "source": [
        "##Architecture"
      ]
    },
    {
      "cell_type": "code",
      "metadata": {
        "id": "6-KOwiTrTmaO",
        "colab_type": "code",
        "colab": {}
      },
      "source": [
        "arch = models.resnet34"
      ],
      "execution_count": null,
      "outputs": []
    },
    {
      "cell_type": "code",
      "metadata": {
        "id": "r2gMElDmTwcD",
        "colab_type": "code",
        "colab": {}
      },
      "source": [
        "def get_data(bs,size):\n",
        "    src = ImageImageList.from_folder(path_lr).split_by_rand_pct(0.3, seed=42)\n",
        "    data = (src.label_from_func(lambda x: path_hr/x.name)\n",
        "           .transform(get_transforms(max_zoom=2.), size=size, tfm_y=True)\n",
        "           .databunch(bs=bs,num_workers = 0).normalize(imagenet_stats, do_y=True))\n",
        "\n",
        "    data.c = 3\n",
        "    return data"
      ],
      "execution_count": null,
      "outputs": []
    },
    {
      "cell_type": "markdown",
      "metadata": {
        "id": "ZbfFmGz3UOS0",
        "colab_type": "text"
      },
      "source": [
        "##64px"
      ]
    },
    {
      "cell_type": "code",
      "metadata": {
        "id": "T7R7FrQzUGWm",
        "colab_type": "code",
        "colab": {}
      },
      "source": [
        "bs,size=20,64"
      ],
      "execution_count": null,
      "outputs": []
    },
    {
      "cell_type": "code",
      "metadata": {
        "id": "1Qx-AZGjUTB7",
        "colab_type": "code",
        "colab": {}
      },
      "source": [
        "data = get_data(bs,size)"
      ],
      "execution_count": null,
      "outputs": []
    },
    {
      "cell_type": "code",
      "metadata": {
        "id": "qwPh1r5RUh_L",
        "colab_type": "code",
        "colab": {}
      },
      "source": [
        "t = data.valid_ds[0][1].data\n",
        "t = torch.stack([t,t])"
      ],
      "execution_count": null,
      "outputs": []
    },
    {
      "cell_type": "code",
      "metadata": {
        "id": "HbzJROHtUj_h",
        "colab_type": "code",
        "colab": {}
      },
      "source": [
        "def gram_matrix(x):\n",
        "    n,c,h,w = x.size()\n",
        "    x = x.view(n, c, -1)\n",
        "    return (x @ x.transpose(1,2))/(c*h*w)"
      ],
      "execution_count": null,
      "outputs": []
    },
    {
      "cell_type": "code",
      "metadata": {
        "id": "0sorX8auUr1x",
        "colab_type": "code",
        "colab": {}
      },
      "source": [
        "gram_matrix(t)\n"
      ],
      "execution_count": null,
      "outputs": []
    },
    {
      "cell_type": "code",
      "metadata": {
        "id": "mJ-ZMxLjUthS",
        "colab_type": "code",
        "colab": {}
      },
      "source": [
        "base_loss = F.l1_loss"
      ],
      "execution_count": null,
      "outputs": []
    },
    {
      "cell_type": "code",
      "metadata": {
        "id": "ecYxpHIAUwtp",
        "colab_type": "code",
        "colab": {}
      },
      "source": [
        "vgg_m = vgg16_bn(True).features.cuda().eval()\n",
        "requires_grad(vgg_m, False)"
      ],
      "execution_count": null,
      "outputs": []
    },
    {
      "cell_type": "code",
      "metadata": {
        "id": "m1O47GPPUyDQ",
        "colab_type": "code",
        "colab": {}
      },
      "source": [
        "blocks = [i-1 for i,o in enumerate(children(vgg_m)) if isinstance(o,nn.MaxPool2d)]\n",
        "blocks, [vgg_m[i] for i in blocks]"
      ],
      "execution_count": null,
      "outputs": []
    },
    {
      "cell_type": "code",
      "metadata": {
        "id": "EBL_UH4pVCva",
        "colab_type": "code",
        "colab": {}
      },
      "source": [
        "class FeatureLoss(nn.Module):\n",
        "    def __init__(self, m_feat, layer_ids, layer_wgts):\n",
        "        super().__init__()\n",
        "        self.m_feat = m_feat\n",
        "        self.loss_features = [self.m_feat[i] for i in layer_ids]\n",
        "        self.hooks = hook_outputs(self.loss_features, detach=False)\n",
        "        self.wgts = layer_wgts\n",
        "        self.metric_names = ['pixel',] + [f'feat_{i}' for i in range(len(layer_ids))\n",
        "              ] + [f'gram_{i}' for i in range(len(layer_ids))]\n",
        "\n",
        "    def make_features(self, x, clone=False):\n",
        "        self.m_feat(x)\n",
        "        return [(o.clone() if clone else o) for o in self.hooks.stored]\n",
        "    \n",
        "    def forward(self, input, target):\n",
        "        out_feat = self.make_features(target, clone=True)\n",
        "        in_feat = self.make_features(input)\n",
        "        self.feat_losses = [base_loss(input,target)]\n",
        "        self.feat_losses += [base_loss(f_in, f_out)*w\n",
        "                             for f_in, f_out, w in zip(in_feat, out_feat, self.wgts)]\n",
        "        self.feat_losses += [base_loss(gram_matrix(f_in), gram_matrix(f_out))*w**2 * 5e3\n",
        "                             for f_in, f_out, w in zip(in_feat, out_feat, self.wgts)]\n",
        "        self.metrics = dict(zip(self.metric_names, self.feat_losses))\n",
        "        return sum(self.feat_losses)\n",
        "    \n",
        "    def __del__(self): self.hooks.remove()"
      ],
      "execution_count": null,
      "outputs": []
    },
    {
      "cell_type": "code",
      "metadata": {
        "id": "keM3rxQqVHaI",
        "colab_type": "code",
        "colab": {}
      },
      "source": [
        "feat_loss = FeatureLoss(vgg_m, blocks[2:5], [5,15,2])"
      ],
      "execution_count": null,
      "outputs": []
    },
    {
      "cell_type": "code",
      "metadata": {
        "id": "8uPW3FoNVNYS",
        "colab_type": "code",
        "colab": {}
      },
      "source": [
        "wd = 1e-3\n",
        "y_range = (-3.,3.)"
      ],
      "execution_count": null,
      "outputs": []
    },
    {
      "cell_type": "code",
      "metadata": {
        "id": "m3kYNQKLVOyJ",
        "colab_type": "code",
        "colab": {}
      },
      "source": [
        "def create_gen_learner():\n",
        "    return unet_learner(data, arch, wd=wd, blur=True,norm_type=NormType.Spectral,self_attention=True, y_range=(-3.0, 3.0),\n",
        "                        loss_func=feat_loss, callback_fns=LossMetrics)\n",
        "gc.collect();"
      ],
      "execution_count": null,
      "outputs": []
    },
    {
      "cell_type": "code",
      "metadata": {
        "id": "MHFJmXBXVQTt",
        "colab_type": "code",
        "colab": {}
      },
      "source": [
        "learn_gen = create_gen_learner()"
      ],
      "execution_count": null,
      "outputs": []
    },
    {
      "cell_type": "code",
      "metadata": {
        "id": "yTL3ZuYYVThM",
        "colab_type": "code",
        "colab": {}
      },
      "source": [
        "lr = 1e-3\n",
        "epoch = 1\n",
        "def do_fit(save_name, lrs=slice(lr), pct_start=0.9):\n",
        "    learn_gen.fit_one_cycle(epoch, lrs, pct_start=pct_start,)\n",
        "    learn_gen.save(save_name)\n",
        "    learn_gen.show_results(rows=1, imgsize=5)"
      ],
      "execution_count": null,
      "outputs": []
    },
    {
      "cell_type": "code",
      "metadata": {
        "id": "382G40A6VU1S",
        "colab_type": "code",
        "colab": {}
      },
      "source": [
        "do_fit('1a', slice(lr*10))\n"
      ],
      "execution_count": null,
      "outputs": []
    },
    {
      "cell_type": "code",
      "metadata": {
        "id": "lTElsGixVYXr",
        "colab_type": "code",
        "colab": {}
      },
      "source": [
        "learn_gen.unfreeze()"
      ],
      "execution_count": null,
      "outputs": []
    },
    {
      "cell_type": "code",
      "metadata": {
        "id": "nbvnn6eZVbAT",
        "colab_type": "code",
        "colab": {}
      },
      "source": [
        "epoch = 1\n",
        "do_fit('1b', slice(1e-01,lr))\n"
      ],
      "execution_count": null,
      "outputs": []
    },
    {
      "cell_type": "markdown",
      "metadata": {
        "id": "dqJq57tPVh1h",
        "colab_type": "text"
      },
      "source": [
        "##128px"
      ]
    },
    {
      "cell_type": "code",
      "metadata": {
        "id": "SBw1CH7hVe70",
        "colab_type": "code",
        "colab": {}
      },
      "source": [
        "data = get_data(8,128)\n",
        "learn_gen.data = data\n",
        "learn_gen.freeze()\n",
        "gc.collect()\n",
        "learn_gen.load('1b');"
      ],
      "execution_count": null,
      "outputs": []
    },
    {
      "cell_type": "code",
      "metadata": {
        "id": "Jr6l2caMVlqq",
        "colab_type": "code",
        "colab": {}
      },
      "source": [
        "epoch =1\n",
        "do_fit('2a')"
      ],
      "execution_count": null,
      "outputs": []
    },
    {
      "cell_type": "code",
      "metadata": {
        "id": "zJqaOIsXVnwb",
        "colab_type": "code",
        "colab": {}
      },
      "source": [
        "learn_gen.unfreeze()"
      ],
      "execution_count": null,
      "outputs": []
    },
    {
      "cell_type": "code",
      "metadata": {
        "id": "whyY4KbIVsWB",
        "colab_type": "code",
        "colab": {}
      },
      "source": [
        "epoch = 1\n",
        "do_fit('2b', slice(1e-02), pct_start=0.3)"
      ],
      "execution_count": null,
      "outputs": []
    },
    {
      "cell_type": "markdown",
      "metadata": {
        "id": "jcnDrKI2V20y",
        "colab_type": "text"
      },
      "source": [
        "##192px"
      ]
    },
    {
      "cell_type": "code",
      "metadata": {
        "id": "c-2uE2a2VzOE",
        "colab_type": "code",
        "colab": {}
      },
      "source": [
        "data = get_data(4,192)\n",
        "learn_gen.data = data\n",
        "learn_gen.freeze()\n",
        "gc.collect()\n",
        "learn_gen.load('2b');"
      ],
      "execution_count": null,
      "outputs": []
    },
    {
      "cell_type": "code",
      "metadata": {
        "id": "WXtb6oSvV-zx",
        "colab_type": "code",
        "colab": {}
      },
      "source": [
        "epoch = 4\n",
        "lr = 1e-03\n",
        "do_fit('3a')"
      ],
      "execution_count": null,
      "outputs": []
    },
    {
      "cell_type": "code",
      "metadata": {
        "id": "6ank8aJ8WBlO",
        "colab_type": "code",
        "colab": {}
      },
      "source": [
        "learn_gen.freeze()"
      ],
      "execution_count": null,
      "outputs": []
    },
    {
      "cell_type": "code",
      "metadata": {
        "id": "_kk6D6Z2WFAr",
        "colab_type": "code",
        "colab": {}
      },
      "source": [
        "epoch = 4\n",
        "do_fit('3b', slice(1e-07), pct_start=0.3)"
      ],
      "execution_count": null,
      "outputs": []
    },
    {
      "cell_type": "markdown",
      "metadata": {
        "id": "g3MKSESkWV1C",
        "colab_type": "text"
      },
      "source": [
        "##Save Generated Images"
      ]
    },
    {
      "cell_type": "code",
      "metadata": {
        "id": "cJBpfxf5WMs3",
        "colab_type": "code",
        "colab": {}
      },
      "source": [
        "learn_gen.load('3b');\n",
        "name_gen = 'image_gen'\n",
        "path_gen = path/name_gen"
      ],
      "execution_count": null,
      "outputs": []
    },
    {
      "cell_type": "code",
      "metadata": {
        "id": "n1Ue-SVaWk5v",
        "colab_type": "code",
        "colab": {}
      },
      "source": [
        "path_gen.mkdir(exist_ok=True)"
      ],
      "execution_count": null,
      "outputs": []
    },
    {
      "cell_type": "code",
      "metadata": {
        "id": "g45h5QfBWmdq",
        "colab_type": "code",
        "colab": {}
      },
      "source": [
        "def save_preds(dl):\n",
        "    i=0\n",
        "    names = dl.dataset.items\n",
        "    \n",
        "    for b in dl:\n",
        "        preds = learn_gen.pred_batch(batch=b, reconstruct=True)\n",
        "        for o in preds:\n",
        "            o.save(path_gen/names[i].name)\n",
        "            i += 1"
      ],
      "execution_count": null,
      "outputs": []
    },
    {
      "cell_type": "code",
      "metadata": {
        "id": "N8Ayg9gUWnta",
        "colab_type": "code",
        "colab": {}
      },
      "source": [
        "save_preds(data.fix_dl)"
      ],
      "execution_count": null,
      "outputs": []
    },
    {
      "cell_type": "code",
      "metadata": {
        "id": "3bDU9fV6WyEy",
        "colab_type": "code",
        "colab": {}
      },
      "source": [
        "  \n",
        "from fastai.core import *\n",
        "from fastai.torch_core import *\n",
        "from fastai.vision import *\n",
        "from fastai.vision.gan import AdaptiveLoss, accuracy_thresh_expand\n",
        "\n",
        "_conv_args = dict(leaky=0.2, norm_type=NormType.Spectral)\n",
        "\n",
        "\n",
        "def _conv(ni: int, nf: int, ks: int = 3, stride: int = 1, **kwargs):\n",
        "    return conv_layer(ni, nf, ks=ks, stride=stride, **_conv_args, **kwargs)\n",
        "\n",
        "\n",
        "def custom_gan_critic(\n",
        "    n_channels: int = 3, nf: int = 256, n_blocks: int = 3, p: int = 0.15\n",
        "):\n",
        "    \"Critic to train a `GAN`.\"\n",
        "    layers = [_conv(n_channels, nf, ks=4, stride=2), nn.Dropout2d(p / 2)]\n",
        "    for i in range(n_blocks):\n",
        "        layers += [\n",
        "            _conv(nf, nf, ks=3, stride=1),\n",
        "            nn.Dropout2d(p),\n",
        "            _conv(nf, nf * 2, ks=4, stride=2, self_attention=(i == 0)),\n",
        "        ]\n",
        "        nf *= 2\n",
        "    layers += [\n",
        "        _conv(nf, nf, ks=3, stride=1),\n",
        "        _conv(nf, 1, ks=4, bias=False, padding=0, use_activ=False),\n",
        "        Flatten(),\n",
        "    ]\n",
        "    return nn.Sequential(*layers)\n",
        "\n",
        "\n",
        "def colorize_crit_learner(\n",
        "    data: ImageDataBunch,\n",
        "    loss_critic=AdaptiveLoss(nn.BCEWithLogitsLoss()),\n",
        "    nf: int = 256,\n",
        ") -> Learner:\n",
        "    return Learner(\n",
        "        data,\n",
        "        custom_gan_critic(nf=nf),\n",
        "        metrics=accuracy_thresh_expand,\n",
        "        loss_func=loss_critic,\n",
        "        wd=1e-3,\n",
        "    )"
      ],
      "execution_count": null,
      "outputs": []
    },
    {
      "cell_type": "markdown",
      "metadata": {
        "id": "bP1eDYKwW1T8",
        "colab_type": "text"
      },
      "source": [
        "## Train Critic"
      ]
    },
    {
      "cell_type": "code",
      "metadata": {
        "id": "Z-au35uTWzPc",
        "colab_type": "code",
        "colab": {}
      },
      "source": [
        "learn_gen=None\n",
        "gc.collect()"
      ],
      "execution_count": null,
      "outputs": []
    },
    {
      "cell_type": "code",
      "metadata": {
        "id": "9NZ0-r5kW4LU",
        "colab_type": "code",
        "colab": {}
      },
      "source": [
        "def get_crit_data(classes, bs, size):\n",
        "    src = ImageList.from_folder(path, include=classes).split_by_rand_pct(0.1, seed=42)\n",
        "    ll = src.label_from_folder(classes=classes)\n",
        "    data = (ll.transform(get_transforms(max_zoom=2.), size=size)\n",
        "           .databunch(bs=bs).normalize(imagenet_stats))\n",
        "    data.c = 3\n",
        "    return data"
      ],
      "execution_count": null,
      "outputs": []
    },
    {
      "cell_type": "code",
      "metadata": {
        "id": "_5xRlsDYW5iP",
        "colab_type": "code",
        "colab": {}
      },
      "source": [
        "bs =4\n",
        "size =192\n",
        "data_crit = get_crit_data([name_gen, 'high'], bs=bs, size=size)"
      ],
      "execution_count": null,
      "outputs": []
    },
    {
      "cell_type": "code",
      "metadata": {
        "id": "Gjer2llVW60g",
        "colab_type": "code",
        "colab": {}
      },
      "source": [
        "learn_critic = colorize_crit_learner(data=data_crit, nf=256)"
      ],
      "execution_count": null,
      "outputs": []
    },
    {
      "cell_type": "code",
      "metadata": {
        "id": "IKD_a7zwW8pj",
        "colab_type": "code",
        "colab": {}
      },
      "source": [
        "learn_critic.fit_one_cycle(1, 1e-02)"
      ],
      "execution_count": null,
      "outputs": []
    },
    {
      "cell_type": "code",
      "metadata": {
        "id": "sqCzVYY_XA_T",
        "colab_type": "code",
        "colab": {}
      },
      "source": [
        "learn_critic.save('critic-pre2')\n"
      ],
      "execution_count": null,
      "outputs": []
    },
    {
      "cell_type": "markdown",
      "metadata": {
        "id": "_NMUepg-XHwh",
        "colab_type": "text"
      },
      "source": [
        "## GAN (Generative adversarial networks)"
      ]
    },
    {
      "cell_type": "code",
      "metadata": {
        "id": "zQEkuXLOXJTV",
        "colab_type": "code",
        "colab": {}
      },
      "source": [
        "learn_crit=None\n",
        "learn_gen=None\n",
        "gc.collect()"
      ],
      "execution_count": null,
      "outputs": []
    },
    {
      "cell_type": "code",
      "metadata": {
        "id": "7CooeVMMXKMJ",
        "colab_type": "code",
        "colab": {}
      },
      "source": [
        "data_crit = get_crit_data([name_gen, 'high'], bs=bs, size=size)"
      ],
      "execution_count": null,
      "outputs": []
    },
    {
      "cell_type": "code",
      "metadata": {
        "id": "tJ36gObDXLdg",
        "colab_type": "code",
        "colab": {}
      },
      "source": [
        "learn_crit = colorize_crit_learner(data=data_crit, nf=256).load('critic-pre2')"
      ],
      "execution_count": null,
      "outputs": []
    },
    {
      "cell_type": "code",
      "metadata": {
        "id": "pYQKbTuRXMrj",
        "colab_type": "code",
        "colab": {}
      },
      "source": [
        "learn_gen = create_gen_learner().load('3b')"
      ],
      "execution_count": null,
      "outputs": []
    },
    {
      "cell_type": "code",
      "metadata": {
        "id": "O9eFAHChXOuu",
        "colab_type": "code",
        "colab": {}
      },
      "source": [
        "switcher = partial(AdaptiveGANSwitcher, critic_thresh=0.65)\n",
        "learn = GANLearner.from_learners(learn_gen, learn_crit, weights_gen=(1.,50.), show_img=True, switcher=switcher,\n",
        "                                 opt_func=partial(optim.Adam, betas=(0.,0.99)), wd=wd)\n",
        "learn.callback_fns.append(partial(GANDiscriminativeLR, mult_lr=5.))"
      ],
      "execution_count": null,
      "outputs": []
    },
    {
      "cell_type": "code",
      "metadata": {
        "id": "BMlXG2g1XQHy",
        "colab_type": "code",
        "colab": {}
      },
      "source": [
        "lr = 2e-5"
      ],
      "execution_count": null,
      "outputs": []
    },
    {
      "cell_type": "code",
      "metadata": {
        "id": "JwK6uPCgXRMj",
        "colab_type": "code",
        "colab": {}
      },
      "source": [
        "learn.fit(1,lr)"
      ],
      "execution_count": null,
      "outputs": []
    }
  ]
}
